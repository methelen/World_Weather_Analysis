{
 "cells": [
  {
   "cell_type": "code",
   "execution_count": 1,
   "id": "ea660683",
   "metadata": {},
   "outputs": [],
   "source": [
    "# Import the random module.\n",
    "import random"
   ]
  },
  {
   "cell_type": "code",
   "execution_count": 2,
   "id": "4ef7106b",
   "metadata": {},
   "outputs": [
    {
     "data": {
      "text/plain": [
       "12"
      ]
     },
     "execution_count": 2,
     "metadata": {},
     "output_type": "execute_result"
    }
   ],
   "source": [
    "random.randint(-90, 90)"
   ]
  },
  {
   "cell_type": "code",
   "execution_count": 3,
   "id": "b6dd01e5",
   "metadata": {},
   "outputs": [
    {
     "data": {
      "text/plain": [
       "0.050209885429710055"
      ]
     },
     "execution_count": 3,
     "metadata": {},
     "output_type": "execute_result"
    }
   ],
   "source": [
    "random.random()"
   ]
  },
  {
   "cell_type": "code",
   "execution_count": 4,
   "id": "37aa02d0",
   "metadata": {},
   "outputs": [
    {
     "data": {
      "text/plain": [
       "40.85648981693525"
      ]
     },
     "execution_count": 4,
     "metadata": {},
     "output_type": "execute_result"
    }
   ],
   "source": [
    "random_number = random.randint(-90, 89) + random.random()\n",
    "random_number"
   ]
  },
  {
   "cell_type": "code",
   "execution_count": 5,
   "id": "769c79bf",
   "metadata": {},
   "outputs": [],
   "source": [
    "x = 1\n",
    "latitudes = []\n",
    "while x < 11:\n",
    "    random_lat = random.randint(-90, 89) + random.random()\n",
    "    latitudes.append(random_lat)\n",
    "    x += 1"
   ]
  },
  {
   "cell_type": "code",
   "execution_count": 6,
   "id": "f1aadfc2",
   "metadata": {},
   "outputs": [
    {
     "data": {
      "text/plain": [
       "[-45.96302661201228,\n",
       " -39.67448131484424,\n",
       " -81.66297454601614,\n",
       " 66.9660564522114,\n",
       " -42.26283765788857,\n",
       " -29.675773975531687,\n",
       " 82.63142172511128,\n",
       " -75.34921291647255,\n",
       " 30.893548622478033,\n",
       " 36.03883921632243]"
      ]
     },
     "execution_count": 6,
     "metadata": {},
     "output_type": "execute_result"
    }
   ],
   "source": [
    "latitudes"
   ]
  },
  {
   "cell_type": "code",
   "execution_count": 7,
   "id": "dc67fe33",
   "metadata": {},
   "outputs": [
    {
     "data": {
      "text/plain": [
       "-75"
      ]
     },
     "execution_count": 7,
     "metadata": {},
     "output_type": "execute_result"
    }
   ],
   "source": [
    "random.randrange(-90, 90, step =1)"
   ]
  },
  {
   "cell_type": "code",
   "execution_count": 8,
   "id": "b737293e",
   "metadata": {},
   "outputs": [
    {
     "data": {
      "text/plain": [
       "63"
      ]
     },
     "execution_count": 8,
     "metadata": {},
     "output_type": "execute_result"
    }
   ],
   "source": [
    "random.randrange(-90, 90, step =3)"
   ]
  },
  {
   "cell_type": "code",
   "execution_count": 9,
   "id": "ff2c24ab",
   "metadata": {},
   "outputs": [
    {
     "data": {
      "text/plain": [
       "-9.811145055372677"
      ]
     },
     "execution_count": 9,
     "metadata": {},
     "output_type": "execute_result"
    }
   ],
   "source": [
    "random.uniform(-90, 90)"
   ]
  },
  {
   "cell_type": "code",
   "execution_count": 10,
   "id": "9827d1f7",
   "metadata": {},
   "outputs": [],
   "source": [
    "# Import the NumPy module.\n",
    "import numpy as np"
   ]
  },
  {
   "cell_type": "code",
   "execution_count": 11,
   "id": "d57b7fa9",
   "metadata": {},
   "outputs": [
    {
     "data": {
      "text/plain": [
       "70.12640601873801"
      ]
     },
     "execution_count": 11,
     "metadata": {},
     "output_type": "execute_result"
    }
   ],
   "source": [
    "np.random.uniform(-90.000, 90.000)"
   ]
  },
  {
   "cell_type": "code",
   "execution_count": 12,
   "id": "cf80008c",
   "metadata": {},
   "outputs": [
    {
     "data": {
      "text/plain": [
       "array([-42.51293081, -59.63313384,  21.87859535, -46.05425206,\n",
       "       -49.05557869, -16.07280635, -72.99857544, -14.87270298,\n",
       "       -16.06504117, -25.77169905,  31.39954503, -68.9182394 ,\n",
       "       -29.30847841, -79.23637426,  62.86970066,  13.16797565,\n",
       "       -72.92842618,   3.81517447,  42.83676   , -38.10413313,\n",
       "       -72.17712525, -21.11578406, -37.49501288, -64.68001049,\n",
       "        24.2051078 , -39.05507941,  -3.79223964, -86.98692393,\n",
       "       -18.55694248, -21.71425384, -31.45706422,   1.32383085,\n",
       "       -23.48613281, -64.52085765,  50.46647734,  37.67866876,\n",
       "       -38.96963056, -25.50627057,   3.0763394 , -47.26025506,\n",
       "       -18.69524057,  14.42145331,  82.22584321,  64.7911062 ,\n",
       "       -83.83624379,  -7.57502167,  38.64837759, -55.82233028,\n",
       "        36.98205976, -12.55681956])"
      ]
     },
     "execution_count": 12,
     "metadata": {},
     "output_type": "execute_result"
    }
   ],
   "source": [
    "np.random.uniform(-90.000, 90.000, size=50)"
   ]
  },
  {
   "cell_type": "code",
   "execution_count": 13,
   "id": "fc4d07ac",
   "metadata": {},
   "outputs": [],
   "source": [
    "# Import timeit.\n",
    "import timeit"
   ]
  },
  {
   "cell_type": "code",
   "execution_count": 14,
   "id": "811ffeda",
   "metadata": {},
   "outputs": [
    {
     "name": "stdout",
     "output_type": "stream",
     "text": [
      "24.3 µs ± 1.17 µs per loop (mean ± std. dev. of 7 runs, 10000 loops each)\n"
     ]
    }
   ],
   "source": [
    "%timeit np.random.uniform(-90.000, 90.000, size=1500)"
   ]
  },
  {
   "cell_type": "code",
   "execution_count": 15,
   "id": "5734e82a",
   "metadata": {},
   "outputs": [
    {
     "name": "stdout",
     "output_type": "stream",
     "text": [
      "3.29 ms ± 201 µs per loop (mean ± std. dev. of 7 runs, 100 loops each)\n"
     ]
    }
   ],
   "source": [
    "def latitudes(size):\n",
    "    latitudes = []\n",
    "    x = 0\n",
    "    while x < (size):\n",
    "        random_lat = random.randint(-90, 90) + random.random()\n",
    "        latitudes.append(random_lat)\n",
    "        x += 1\n",
    "    return latitudes\n",
    "# Call the function with 1500.\n",
    "%timeit latitudes(1500)"
   ]
  },
  {
   "cell_type": "code",
   "execution_count": null,
   "id": "8cb45b0f",
   "metadata": {},
   "outputs": [],
   "source": []
  }
 ],
 "metadata": {
  "kernelspec": {
   "display_name": "PythonData",
   "language": "python",
   "name": "pythondata"
  },
  "language_info": {
   "codemirror_mode": {
    "name": "ipython",
    "version": 3
   },
   "file_extension": ".py",
   "mimetype": "text/x-python",
   "name": "python",
   "nbconvert_exporter": "python",
   "pygments_lexer": "ipython3",
   "version": "3.7.10"
  }
 },
 "nbformat": 4,
 "nbformat_minor": 5
}
